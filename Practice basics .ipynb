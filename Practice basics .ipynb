{
 "cells": [
  {
   "cell_type": "code",
   "execution_count": 1,
   "id": "af133a53",
   "metadata": {},
   "outputs": [
    {
     "name": "stdout",
     "output_type": "stream",
     "text": [
      "5\n",
      "Nagesh\n"
     ]
    }
   ],
   "source": [
    "x = 5\n",
    "y = \"Nagesh\"\n",
    "print(x)\n",
    "print(y)"
   ]
  },
  {
   "cell_type": "code",
   "execution_count": 2,
   "id": "d357f099",
   "metadata": {},
   "outputs": [],
   "source": [
    "#type casting \n",
    "x = str(3)\n",
    "y = int(3)\n",
    "z = float(3)\n"
   ]
  },
  {
   "cell_type": "code",
   "execution_count": 6,
   "id": "73f92e77",
   "metadata": {},
   "outputs": [
    {
     "data": {
      "text/plain": [
       "str"
      ]
     },
     "execution_count": 6,
     "metadata": {},
     "output_type": "execute_result"
    }
   ],
   "source": [
    "type(x)"
   ]
  },
  {
   "cell_type": "code",
   "execution_count": 7,
   "id": "ad3d6b66",
   "metadata": {},
   "outputs": [
    {
     "data": {
      "text/plain": [
       "int"
      ]
     },
     "execution_count": 7,
     "metadata": {},
     "output_type": "execute_result"
    }
   ],
   "source": [
    "type(y)\n"
   ]
  },
  {
   "cell_type": "code",
   "execution_count": 8,
   "id": "11a1a046",
   "metadata": {},
   "outputs": [
    {
     "data": {
      "text/plain": [
       "float"
      ]
     },
     "execution_count": 8,
     "metadata": {},
     "output_type": "execute_result"
    }
   ],
   "source": [
    "type(z)"
   ]
  },
  {
   "cell_type": "code",
   "execution_count": 9,
   "id": "bd4aa91b",
   "metadata": {},
   "outputs": [
    {
     "name": "stdout",
     "output_type": "stream",
     "text": [
      "Nagesh\n",
      "Nagesh\n"
     ]
    }
   ],
   "source": [
    "x = \"Nagesh\"\n",
    "y = 'Nagesh'\n",
    "# we can used both single ''  or double \"\" to assing string variable\n",
    "print(x)\n",
    "print(y)"
   ]
  },
  {
   "cell_type": "code",
   "execution_count": 10,
   "id": "7a04c5ff",
   "metadata": {},
   "outputs": [
    {
     "name": "stdout",
     "output_type": "stream",
     "text": [
      "Nagesh\n",
      "Meshram\n"
     ]
    }
   ],
   "source": [
    "#variable name are case sencetive \n",
    "a = \"Nagesh\"\n",
    "A = \"Meshram\"\n",
    "print(a)\n",
    "print(A)"
   ]
  },
  {
   "cell_type": "code",
   "execution_count": 11,
   "id": "17391a0d",
   "metadata": {},
   "outputs": [
    {
     "name": "stdout",
     "output_type": "stream",
     "text": [
      "Nagesh\n",
      "Vilas\n",
      "Meshram\n"
     ]
    }
   ],
   "source": [
    "# way to assign values also be like that\n",
    "x,y,z=\"Nagesh\",\"Vilas\",\"Meshram\"\n",
    "print(x)\n",
    "print(y)\n",
    "print(z)"
   ]
  },
  {
   "cell_type": "code",
   "execution_count": 12,
   "id": "eccecc59",
   "metadata": {},
   "outputs": [
    {
     "name": "stdout",
     "output_type": "stream",
     "text": [
      "Nagesh\n",
      "Nagesh\n",
      "Nagesh\n"
     ]
    }
   ],
   "source": [
    "x = y = z = \"Nagesh\"\n",
    "print(x)\n",
    "print(y)\n",
    "print(z)"
   ]
  },
  {
   "cell_type": "code",
   "execution_count": 14,
   "id": "60262509",
   "metadata": {},
   "outputs": [
    {
     "name": "stdout",
     "output_type": "stream",
     "text": [
      "apple\n",
      "Banana\n",
      "chery\n"
     ]
    }
   ],
   "source": [
    "fruits = [\"apple\",\"Banana\",\"chery\"]\n",
    "x,y,z = fruits\n",
    "print(x)\n",
    "print(y)\n",
    "print(z)"
   ]
  },
  {
   "cell_type": "code",
   "execution_count": 17,
   "id": "887d01fe",
   "metadata": {},
   "outputs": [
    {
     "data": {
      "text/plain": [
       "'NageshMeshram'"
      ]
     },
     "execution_count": 17,
     "metadata": {},
     "output_type": "execute_result"
    }
   ],
   "source": [
    "a1 = \"Nagesh\"\n",
    "a2 = \"Meshram\"\n",
    "a1+a2\n"
   ]
  },
  {
   "cell_type": "code",
   "execution_count": 19,
   "id": "cd1b1248",
   "metadata": {},
   "outputs": [
    {
     "name": "stdout",
     "output_type": "stream",
     "text": [
      "NageshMeshram\n",
      "Nagesh Meshram\n"
     ]
    }
   ],
   "source": [
    "print(a1+a2)  # this will print both withpout space\n",
    "print(a1,a2)  # this will print with space "
   ]
  },
  {
   "cell_type": "code",
   "execution_count": 20,
   "id": "3d540629",
   "metadata": {},
   "outputs": [
    {
     "ename": "TypeError",
     "evalue": "unsupported operand type(s) for +: 'int' and 'str'",
     "output_type": "error",
     "traceback": [
      "\u001b[1;31m---------------------------------------------------------------------------\u001b[0m",
      "\u001b[1;31mTypeError\u001b[0m                                 Traceback (most recent call last)",
      "Input \u001b[1;32mIn [20]\u001b[0m, in \u001b[0;36m<cell line: 3>\u001b[1;34m()\u001b[0m\n\u001b[0;32m      1\u001b[0m a1 \u001b[38;5;241m=\u001b[39m \u001b[38;5;241m100\u001b[39m\n\u001b[0;32m      2\u001b[0m a2 \u001b[38;5;241m=\u001b[39m \u001b[38;5;124m\"\u001b[39m\u001b[38;5;124mNagesh\u001b[39m\u001b[38;5;124m\"\u001b[39m\n\u001b[1;32m----> 3\u001b[0m \u001b[43ma1\u001b[49m\u001b[38;5;241;43m+\u001b[39;49m\u001b[43ma2\u001b[49m\n",
      "\u001b[1;31mTypeError\u001b[0m: unsupported operand type(s) for +: 'int' and 'str'"
     ]
    }
   ],
   "source": [
    "a1 = 100\n",
    "a2 = \"Nagesh\"\n",
    "a1+a2             # This will give the type error as type of a1 and a2 are different"
   ]
  },
  {
   "cell_type": "code",
   "execution_count": 22,
   "id": "364c4596",
   "metadata": {},
   "outputs": [
    {
     "ename": "TypeError",
     "evalue": "unsupported operand type(s) for +: 'int' and 'str'",
     "output_type": "error",
     "traceback": [
      "\u001b[1;31m---------------------------------------------------------------------------\u001b[0m",
      "\u001b[1;31mTypeError\u001b[0m                                 Traceback (most recent call last)",
      "Input \u001b[1;32mIn [22]\u001b[0m, in \u001b[0;36m<cell line: 1>\u001b[1;34m()\u001b[0m\n\u001b[1;32m----> 1\u001b[0m \u001b[38;5;28mprint\u001b[39m(\u001b[43ma1\u001b[49m\u001b[38;5;241;43m+\u001b[39;49m\u001b[43ma2\u001b[49m)\n",
      "\u001b[1;31mTypeError\u001b[0m: unsupported operand type(s) for +: 'int' and 'str'"
     ]
    }
   ],
   "source": [
    "print(a1+a2) # This will give the type error as type of a1 and a2 are different"
   ]
  },
  {
   "cell_type": "code",
   "execution_count": 23,
   "id": "2ef80a64",
   "metadata": {},
   "outputs": [
    {
     "name": "stdout",
     "output_type": "stream",
     "text": [
      "100 Nagesh\n"
     ]
    }
   ],
   "source": [
    "print(a1,a2) # This will not give the type error as just print not additing "
   ]
  },
  {
   "cell_type": "code",
   "execution_count": 24,
   "id": "502cc832",
   "metadata": {},
   "outputs": [],
   "source": [
    "# python variables datatypes\n",
    "# Numeric datatypes\n",
    "int\n",
    "float\n",
    "complex\n",
    "# Secquence type\n",
    "str\n",
    "list\n",
    "tuple\n",
    "range\n",
    "# Mapping Typs\n",
    "dict\n",
    "# Set Type\n",
    "set\n",
    "frozenset\n",
    "# boolean type\n",
    "bool\n",
    "# binary type\n",
    "bytes\n",
    "bytearray\n",
    "memoryview\n",
    "# None type\n",
    "None\n"
   ]
  },
  {
   "cell_type": "code",
   "execution_count": 27,
   "id": "09c34e1c",
   "metadata": {},
   "outputs": [
    {
     "data": {
      "text/plain": [
       "'N'"
      ]
     },
     "execution_count": 27,
     "metadata": {},
     "output_type": "execute_result"
    }
   ],
   "source": [
    "#String\n",
    "s = \"Nagesh\"\n",
    "s[0]   # index start from zero for +ve index and -1 for -ve index"
   ]
  },
  {
   "cell_type": "code",
   "execution_count": 31,
   "id": "3cf0eac9",
   "metadata": {},
   "outputs": [
    {
     "data": {
      "text/plain": [
       "('h', 's', 'e', 'g', 'a', 'N')"
      ]
     },
     "execution_count": 31,
     "metadata": {},
     "output_type": "execute_result"
    }
   ],
   "source": [
    "s[-1],s[-2],s[-3],s[-4],s[-5],s[-6]\n"
   ]
  },
  {
   "cell_type": "code",
   "execution_count": 34,
   "id": "a853bf5a",
   "metadata": {},
   "outputs": [
    {
     "data": {
      "text/plain": [
       "26"
      ]
     },
     "execution_count": 34,
     "metadata": {},
     "output_type": "execute_result"
    }
   ],
   "source": [
    "s1 = \"this is my python practice\"\n",
    "len(s1)   # this will give length of string"
   ]
  },
  {
   "cell_type": "code",
   "execution_count": 36,
   "id": "e6f5ede2",
   "metadata": {},
   "outputs": [
    {
     "data": {
      "text/plain": [
       "''"
      ]
     },
     "execution_count": 36,
     "metadata": {},
     "output_type": "execute_result"
    }
   ],
   "source": [
    "s1[1:0]"
   ]
  },
  {
   "cell_type": "code",
   "execution_count": 37,
   "id": "c5bb080d",
   "metadata": {},
   "outputs": [
    {
     "data": {
      "text/plain": [
       "'his is my python practice'"
      ]
     },
     "execution_count": 37,
     "metadata": {},
     "output_type": "execute_result"
    }
   ],
   "source": [
    "s1[1:len(s1)]"
   ]
  },
  {
   "cell_type": "code",
   "execution_count": 38,
   "id": "2d5c2897",
   "metadata": {},
   "outputs": [
    {
     "data": {
      "text/plain": [
       "'this is my python practice'"
      ]
     },
     "execution_count": 38,
     "metadata": {},
     "output_type": "execute_result"
    }
   ],
   "source": [
    "s1[0:len(s1)]"
   ]
  },
  {
   "cell_type": "code",
   "execution_count": 39,
   "id": "f26705f6",
   "metadata": {},
   "outputs": [
    {
     "data": {
      "text/plain": [
       "'his is my'"
      ]
     },
     "execution_count": 39,
     "metadata": {},
     "output_type": "execute_result"
    }
   ],
   "source": [
    "s1[1:10:1]"
   ]
  },
  {
   "cell_type": "code",
   "execution_count": 40,
   "id": "163e6051",
   "metadata": {},
   "outputs": [
    {
     "data": {
      "text/plain": [
       "'hsi y'"
      ]
     },
     "execution_count": 40,
     "metadata": {},
     "output_type": "execute_result"
    }
   ],
   "source": [
    "s1[1:10:2]"
   ]
  },
  {
   "cell_type": "code",
   "execution_count": 41,
   "id": "c33f0a9c",
   "metadata": {},
   "outputs": [],
   "source": [
    "s2 = \"123456789\""
   ]
  },
  {
   "cell_type": "code",
   "execution_count": 42,
   "id": "0dd7e546",
   "metadata": {},
   "outputs": [
    {
     "data": {
      "text/plain": [
       "'2'"
      ]
     },
     "execution_count": 42,
     "metadata": {},
     "output_type": "execute_result"
    }
   ],
   "source": [
    "s2[1]"
   ]
  },
  {
   "cell_type": "code",
   "execution_count": 43,
   "id": "eb2edd97",
   "metadata": {},
   "outputs": [
    {
     "data": {
      "text/plain": [
       "'2468'"
      ]
     },
     "execution_count": 43,
     "metadata": {},
     "output_type": "execute_result"
    }
   ],
   "source": [
    "s2[1:10:2]"
   ]
  },
  {
   "cell_type": "code",
   "execution_count": 46,
   "id": "82027ece",
   "metadata": {},
   "outputs": [
    {
     "data": {
      "text/plain": [
       "'13579'"
      ]
     },
     "execution_count": 46,
     "metadata": {},
     "output_type": "execute_result"
    }
   ],
   "source": [
    "s2[::2]"
   ]
  },
  {
   "cell_type": "code",
   "execution_count": 47,
   "id": "cfa1aea4",
   "metadata": {},
   "outputs": [
    {
     "data": {
      "text/plain": [
       "'147'"
      ]
     },
     "execution_count": 47,
     "metadata": {},
     "output_type": "execute_result"
    }
   ],
   "source": [
    "s2[::3]"
   ]
  },
  {
   "cell_type": "code",
   "execution_count": 49,
   "id": "0b6ed33c",
   "metadata": {},
   "outputs": [
    {
     "data": {
      "text/plain": [
       "'98765432'"
      ]
     },
     "execution_count": 49,
     "metadata": {},
     "output_type": "execute_result"
    }
   ],
   "source": [
    "s2[-1:-9:-1]"
   ]
  },
  {
   "cell_type": "code",
   "execution_count": 50,
   "id": "5bb36065",
   "metadata": {},
   "outputs": [
    {
     "data": {
      "text/plain": [
       "'987654321'"
      ]
     },
     "execution_count": 50,
     "metadata": {},
     "output_type": "execute_result"
    }
   ],
   "source": [
    "s2[::-1] # this will reverse the string"
   ]
  },
  {
   "cell_type": "code",
   "execution_count": 53,
   "id": "8703ce81",
   "metadata": {},
   "outputs": [
    {
     "data": {
      "text/plain": [
       "''"
      ]
     },
     "execution_count": 53,
     "metadata": {},
     "output_type": "execute_result"
    }
   ],
   "source": [
    "s2[-1:-9:]"
   ]
  },
  {
   "cell_type": "code",
   "execution_count": 54,
   "id": "04051ab5",
   "metadata": {},
   "outputs": [
    {
     "data": {
      "text/plain": [
       "'8'"
      ]
     },
     "execution_count": 54,
     "metadata": {},
     "output_type": "execute_result"
    }
   ],
   "source": [
    "s2[-2]"
   ]
  },
  {
   "cell_type": "code",
   "execution_count": 55,
   "id": "a1e788c6",
   "metadata": {},
   "outputs": [
    {
     "data": {
      "text/plain": [
       "''"
      ]
     },
     "execution_count": 55,
     "metadata": {},
     "output_type": "execute_result"
    }
   ],
   "source": [
    "s2[-2:-9]"
   ]
  },
  {
   "cell_type": "code",
   "execution_count": 56,
   "id": "e3a584c4",
   "metadata": {},
   "outputs": [
    {
     "data": {
      "text/plain": [
       "''"
      ]
     },
     "execution_count": 56,
     "metadata": {},
     "output_type": "execute_result"
    }
   ],
   "source": [
    "s2[-2:-9:]"
   ]
  },
  {
   "cell_type": "code",
   "execution_count": 57,
   "id": "39b7f31b",
   "metadata": {},
   "outputs": [
    {
     "ename": "ValueError",
     "evalue": "slice step cannot be zero",
     "output_type": "error",
     "traceback": [
      "\u001b[1;31m---------------------------------------------------------------------------\u001b[0m",
      "\u001b[1;31mValueError\u001b[0m                                Traceback (most recent call last)",
      "Input \u001b[1;32mIn [57]\u001b[0m, in \u001b[0;36m<cell line: 1>\u001b[1;34m()\u001b[0m\n\u001b[1;32m----> 1\u001b[0m \u001b[43ms2\u001b[49m\u001b[43m[\u001b[49m\u001b[38;5;241;43m-\u001b[39;49m\u001b[38;5;241;43m2\u001b[39;49m\u001b[43m:\u001b[49m\u001b[38;5;241;43m-\u001b[39;49m\u001b[38;5;241;43m9\u001b[39;49m\u001b[43m:\u001b[49m\u001b[38;5;241;43m0\u001b[39;49m\u001b[43m]\u001b[49m\n",
      "\u001b[1;31mValueError\u001b[0m: slice step cannot be zero"
     ]
    }
   ],
   "source": [
    "s2[-2:-9:0]"
   ]
  },
  {
   "cell_type": "code",
   "execution_count": 58,
   "id": "b50e3c12",
   "metadata": {},
   "outputs": [
    {
     "data": {
      "text/plain": [
       "'8765432'"
      ]
     },
     "execution_count": 58,
     "metadata": {},
     "output_type": "execute_result"
    }
   ],
   "source": [
    "s2[-2:-9:-1]"
   ]
  },
  {
   "cell_type": "code",
   "execution_count": 59,
   "id": "177ec46d",
   "metadata": {},
   "outputs": [
    {
     "data": {
      "text/plain": [
       "'8642'"
      ]
     },
     "execution_count": 59,
     "metadata": {},
     "output_type": "execute_result"
    }
   ],
   "source": [
    "s2[-2:-9:-2]"
   ]
  },
  {
   "cell_type": "code",
   "execution_count": 60,
   "id": "0ffaf1d2",
   "metadata": {},
   "outputs": [
    {
     "data": {
      "text/plain": [
       "'12345678'"
      ]
     },
     "execution_count": 60,
     "metadata": {},
     "output_type": "execute_result"
    }
   ],
   "source": [
    "s2[-9:-1]"
   ]
  },
  {
   "cell_type": "code",
   "execution_count": 62,
   "id": "e91e120b",
   "metadata": {},
   "outputs": [
    {
     "data": {
      "text/plain": [
       "'123456789'"
      ]
     },
     "execution_count": 62,
     "metadata": {},
     "output_type": "execute_result"
    }
   ],
   "source": [
    "s2[:9]"
   ]
  },
  {
   "cell_type": "code",
   "execution_count": 63,
   "id": "f62480ff",
   "metadata": {},
   "outputs": [
    {
     "data": {
      "text/plain": [
       "'123456789'"
      ]
     },
     "execution_count": 63,
     "metadata": {},
     "output_type": "execute_result"
    }
   ],
   "source": [
    "s2[0:9]"
   ]
  },
  {
   "cell_type": "code",
   "execution_count": 65,
   "id": "94c7c1f1",
   "metadata": {},
   "outputs": [
    {
     "data": {
      "text/plain": [
       "'NageshNagesh'"
      ]
     },
     "execution_count": 65,
     "metadata": {},
     "output_type": "execute_result"
    }
   ],
   "source": [
    "a = 'Nagesh'\n",
    "a+a"
   ]
  },
  {
   "cell_type": "code",
   "execution_count": 66,
   "id": "4c016f7c",
   "metadata": {},
   "outputs": [
    {
     "data": {
      "text/plain": [
       "'NageshNagesh'"
      ]
     },
     "execution_count": 66,
     "metadata": {},
     "output_type": "execute_result"
    }
   ],
   "source": [
    "a*2"
   ]
  },
  {
   "cell_type": "code",
   "execution_count": 67,
   "id": "df16ef6a",
   "metadata": {},
   "outputs": [
    {
     "data": {
      "text/plain": [
       "'NageshNageshNagesh'"
      ]
     },
     "execution_count": 67,
     "metadata": {},
     "output_type": "execute_result"
    }
   ],
   "source": [
    "a*3"
   ]
  },
  {
   "cell_type": "code",
   "execution_count": 68,
   "id": "6b229c95",
   "metadata": {},
   "outputs": [
    {
     "data": {
      "text/plain": [
       "\"'Nagesh'\""
      ]
     },
     "execution_count": 68,
     "metadata": {},
     "output_type": "execute_result"
    }
   ],
   "source": [
    "ascii(a)"
   ]
  },
  {
   "cell_type": "code",
   "execution_count": 72,
   "id": "97cca840",
   "metadata": {},
   "outputs": [],
   "source": [
    "s = \"Nagesh\""
   ]
  },
  {
   "cell_type": "code",
   "execution_count": 75,
   "id": "49216aee",
   "metadata": {},
   "outputs": [
    {
     "data": {
      "text/plain": [
       "['N', 'gesh']"
      ]
     },
     "execution_count": 75,
     "metadata": {},
     "output_type": "execute_result"
    }
   ],
   "source": [
    "s.split('a')  # this will split the string according to the given variable in the paranthesis"
   ]
  },
  {
   "cell_type": "code",
   "execution_count": 76,
   "id": "b2f84c4b",
   "metadata": {},
   "outputs": [
    {
     "data": {
      "text/plain": [
       "'Nagesh'"
      ]
     },
     "execution_count": 76,
     "metadata": {},
     "output_type": "execute_result"
    }
   ],
   "source": [
    "s.capitalize()"
   ]
  },
  {
   "cell_type": "code",
   "execution_count": 77,
   "id": "c079d801",
   "metadata": {},
   "outputs": [
    {
     "data": {
      "text/plain": [
       "'nagesh'"
      ]
     },
     "execution_count": 77,
     "metadata": {},
     "output_type": "execute_result"
    }
   ],
   "source": [
    "s.casefold()"
   ]
  },
  {
   "cell_type": "code",
   "execution_count": 78,
   "id": "20390185",
   "metadata": {},
   "outputs": [
    {
     "data": {
      "text/plain": [
       "'~~~~~~~Nagesh~~~~~~~'"
      ]
     },
     "execution_count": 78,
     "metadata": {},
     "output_type": "execute_result"
    }
   ],
   "source": [
    "s.center(20,\"~\") # this will center out the string within given width and charector "
   ]
  },
  {
   "cell_type": "code",
   "execution_count": 80,
   "id": "5242edfc",
   "metadata": {},
   "outputs": [
    {
     "data": {
      "text/plain": [
       "1"
      ]
     },
     "execution_count": 80,
     "metadata": {},
     "output_type": "execute_result"
    }
   ],
   "source": [
    "s.count('a')   # this will count the given letter in sring "
   ]
  },
  {
   "cell_type": "code",
   "execution_count": 81,
   "id": "61e949cf",
   "metadata": {},
   "outputs": [
    {
     "data": {
      "text/plain": [
       "b'Nagesh'"
      ]
     },
     "execution_count": 81,
     "metadata": {},
     "output_type": "execute_result"
    }
   ],
   "source": [
    "s.encode()"
   ]
  },
  {
   "cell_type": "code",
   "execution_count": 82,
   "id": "0914b317",
   "metadata": {},
   "outputs": [
    {
     "data": {
      "text/plain": [
       "False"
      ]
     },
     "execution_count": 82,
     "metadata": {},
     "output_type": "execute_result"
    }
   ],
   "source": [
    "s.endswith(\"H\")"
   ]
  },
  {
   "cell_type": "code",
   "execution_count": 84,
   "id": "169526eb",
   "metadata": {},
   "outputs": [
    {
     "data": {
      "text/plain": [
       "True"
      ]
     },
     "execution_count": 84,
     "metadata": {},
     "output_type": "execute_result"
    }
   ],
   "source": [
    "s.endswith(\"h\")"
   ]
  },
  {
   "cell_type": "code",
   "execution_count": 88,
   "id": "0c494b5a",
   "metadata": {},
   "outputs": [
    {
     "data": {
      "text/plain": [
       "'Nagesh'"
      ]
     },
     "execution_count": 88,
     "metadata": {},
     "output_type": "execute_result"
    }
   ],
   "source": [
    "s.expandtabs(3)"
   ]
  },
  {
   "cell_type": "code",
   "execution_count": 94,
   "id": "b63ba165",
   "metadata": {},
   "outputs": [
    {
     "data": {
      "text/plain": [
       "'a    b    c'"
      ]
     },
     "execution_count": 94,
     "metadata": {},
     "output_type": "execute_result"
    }
   ],
   "source": [
    "s1 = \"a\\tb\\tc\"\n",
    "s1.expandtabs(5)  # this will replace \\t by numbers of space count given in ()"
   ]
  },
  {
   "cell_type": "code",
   "execution_count": 96,
   "id": "b08152fe",
   "metadata": {},
   "outputs": [
    {
     "data": {
      "text/plain": [
       "4"
      ]
     },
     "execution_count": 96,
     "metadata": {},
     "output_type": "execute_result"
    }
   ],
   "source": [
    "s.find(\"s\") # this will give the position of the charactor in the string"
   ]
  },
  {
   "cell_type": "code",
   "execution_count": 97,
   "id": "4b66e918",
   "metadata": {},
   "outputs": [
    {
     "data": {
      "text/plain": [
       "0"
      ]
     },
     "execution_count": 97,
     "metadata": {},
     "output_type": "execute_result"
    }
   ],
   "source": [
    "s.find('N')"
   ]
  },
  {
   "cell_type": "code",
   "execution_count": 98,
   "id": "b75dbba2",
   "metadata": {},
   "outputs": [
    {
     "data": {
      "text/plain": [
       "'Nagesh'"
      ]
     },
     "execution_count": 98,
     "metadata": {},
     "output_type": "execute_result"
    }
   ],
   "source": [
    "s.format()"
   ]
  },
  {
   "cell_type": "code",
   "execution_count": 100,
   "id": "7b4f551d",
   "metadata": {},
   "outputs": [
    {
     "data": {
      "text/plain": [
       "'  nagesh'"
      ]
     },
     "execution_count": 100,
     "metadata": {},
     "output_type": "execute_result"
    }
   ],
   "source": [
    "s1 = \"  nagesh\"\n",
    "s1.format()"
   ]
  },
  {
   "cell_type": "code",
   "execution_count": 101,
   "id": "c4c52e0b",
   "metadata": {},
   "outputs": [
    {
     "data": {
      "text/plain": [
       "4"
      ]
     },
     "execution_count": 101,
     "metadata": {},
     "output_type": "execute_result"
    }
   ],
   "source": [
    "s.index(\"s\") # this will give the index of given charector in string"
   ]
  },
  {
   "cell_type": "code",
   "execution_count": 102,
   "id": "e826f730",
   "metadata": {},
   "outputs": [
    {
     "data": {
      "text/plain": [
       "True"
      ]
     },
     "execution_count": 102,
     "metadata": {},
     "output_type": "execute_result"
    }
   ],
   "source": [
    "s.isalnum()"
   ]
  },
  {
   "cell_type": "code",
   "execution_count": 103,
   "id": "9e80675d",
   "metadata": {},
   "outputs": [
    {
     "data": {
      "text/plain": [
       "True"
      ]
     },
     "execution_count": 103,
     "metadata": {},
     "output_type": "execute_result"
    }
   ],
   "source": [
    "s.isalpha()"
   ]
  },
  {
   "cell_type": "code",
   "execution_count": 104,
   "id": "3f779dbb",
   "metadata": {},
   "outputs": [
    {
     "data": {
      "text/plain": [
       "True"
      ]
     },
     "execution_count": 104,
     "metadata": {},
     "output_type": "execute_result"
    }
   ],
   "source": [
    "s.isascii()"
   ]
  },
  {
   "cell_type": "code",
   "execution_count": 105,
   "id": "1d0b72bd",
   "metadata": {},
   "outputs": [
    {
     "data": {
      "text/plain": [
       "False"
      ]
     },
     "execution_count": 105,
     "metadata": {},
     "output_type": "execute_result"
    }
   ],
   "source": [
    "s.isdecimal()"
   ]
  },
  {
   "cell_type": "code",
   "execution_count": 106,
   "id": "9949f7f7",
   "metadata": {},
   "outputs": [
    {
     "data": {
      "text/plain": [
       "False"
      ]
     },
     "execution_count": 106,
     "metadata": {},
     "output_type": "execute_result"
    }
   ],
   "source": [
    "s.isdigit()"
   ]
  },
  {
   "cell_type": "code",
   "execution_count": 107,
   "id": "6804fcf5",
   "metadata": {},
   "outputs": [
    {
     "data": {
      "text/plain": [
       "True"
      ]
     },
     "execution_count": 107,
     "metadata": {},
     "output_type": "execute_result"
    }
   ],
   "source": [
    "s.isidentifier()"
   ]
  },
  {
   "cell_type": "code",
   "execution_count": 108,
   "id": "f9119746",
   "metadata": {},
   "outputs": [
    {
     "data": {
      "text/plain": [
       "False"
      ]
     },
     "execution_count": 108,
     "metadata": {},
     "output_type": "execute_result"
    }
   ],
   "source": [
    "s.islower()"
   ]
  },
  {
   "cell_type": "code",
   "execution_count": 109,
   "id": "72bb1c90",
   "metadata": {},
   "outputs": [
    {
     "data": {
      "text/plain": [
       "False"
      ]
     },
     "execution_count": 109,
     "metadata": {},
     "output_type": "execute_result"
    }
   ],
   "source": [
    "s.isnumeric()"
   ]
  },
  {
   "cell_type": "code",
   "execution_count": 110,
   "id": "f4008559",
   "metadata": {},
   "outputs": [
    {
     "data": {
      "text/plain": [
       "True"
      ]
     },
     "execution_count": 110,
     "metadata": {},
     "output_type": "execute_result"
    }
   ],
   "source": [
    "s.isprintable()"
   ]
  },
  {
   "cell_type": "code",
   "execution_count": 111,
   "id": "dd114996",
   "metadata": {},
   "outputs": [
    {
     "data": {
      "text/plain": [
       "False"
      ]
     },
     "execution_count": 111,
     "metadata": {},
     "output_type": "execute_result"
    }
   ],
   "source": [
    "s.isspace()"
   ]
  },
  {
   "cell_type": "code",
   "execution_count": 112,
   "id": "de04dc06",
   "metadata": {},
   "outputs": [
    {
     "data": {
      "text/plain": [
       "True"
      ]
     },
     "execution_count": 112,
     "metadata": {},
     "output_type": "execute_result"
    }
   ],
   "source": [
    "s.istitle()"
   ]
  },
  {
   "cell_type": "code",
   "execution_count": 113,
   "id": "3e96d46e",
   "metadata": {},
   "outputs": [
    {
     "data": {
      "text/plain": [
       "False"
      ]
     },
     "execution_count": 113,
     "metadata": {},
     "output_type": "execute_result"
    }
   ],
   "source": [
    "s.isupper()"
   ]
  },
  {
   "cell_type": "code",
   "execution_count": 114,
   "id": "bd42efaa",
   "metadata": {},
   "outputs": [
    {
     "data": {
      "text/plain": [
       "'sNagesh1'"
      ]
     },
     "execution_count": 114,
     "metadata": {},
     "output_type": "execute_result"
    }
   ],
   "source": [
    "s.join(\"s1\")"
   ]
  },
  {
   "cell_type": "code",
   "execution_count": 115,
   "id": "7e953802",
   "metadata": {},
   "outputs": [
    {
     "data": {
      "text/plain": [
       "' Nagesh NageshnNageshaNageshgNagesheNageshsNageshh'"
      ]
     },
     "execution_count": 115,
     "metadata": {},
     "output_type": "execute_result"
    }
   ],
   "source": [
    "s.join(s1)"
   ]
  },
  {
   "cell_type": "code",
   "execution_count": 118,
   "id": "2dccda6f",
   "metadata": {},
   "outputs": [
    {
     "data": {
      "text/plain": [
       "'wNageshwNageshw'"
      ]
     },
     "execution_count": 118,
     "metadata": {},
     "output_type": "execute_result"
    }
   ],
   "source": [
    "a1 = \"Nagesh\"\n",
    "a2 = \"www\"\n",
    "a1.join(a2)"
   ]
  },
  {
   "cell_type": "code",
   "execution_count": 121,
   "id": "7a8a93bd",
   "metadata": {},
   "outputs": [
    {
     "data": {
      "text/plain": [
       "'@Nagesh#Nagesh@'"
      ]
     },
     "execution_count": 121,
     "metadata": {},
     "output_type": "execute_result"
    }
   ],
   "source": [
    "a1.join(\"@#@\")"
   ]
  },
  {
   "cell_type": "code",
   "execution_count": 122,
   "id": "6b052707",
   "metadata": {},
   "outputs": [
    {
     "data": {
      "text/plain": [
       "'$N$N$N$'"
      ]
     },
     "execution_count": 122,
     "metadata": {},
     "output_type": "execute_result"
    }
   ],
   "source": [
    "a1 = \"N\"\n",
    "a2 = \"$$$$\"\n",
    "a1.join(a2)"
   ]
  },
  {
   "cell_type": "code",
   "execution_count": 127,
   "id": "2c4b5d3c",
   "metadata": {},
   "outputs": [
    {
     "data": {
      "text/plain": [
       "'Nagesh'"
      ]
     },
     "execution_count": 127,
     "metadata": {},
     "output_type": "execute_result"
    }
   ],
   "source": [
    "s.ljust(1,\" \")"
   ]
  },
  {
   "cell_type": "code",
   "execution_count": 128,
   "id": "d361b7f4",
   "metadata": {},
   "outputs": [
    {
     "data": {
      "text/plain": [
       "'nagesh'"
      ]
     },
     "execution_count": 128,
     "metadata": {},
     "output_type": "execute_result"
    }
   ],
   "source": [
    "s.lower()"
   ]
  },
  {
   "cell_type": "code",
   "execution_count": 129,
   "id": "000c286e",
   "metadata": {},
   "outputs": [
    {
     "data": {
      "text/plain": [
       "'Nagesh'"
      ]
     },
     "execution_count": 129,
     "metadata": {},
     "output_type": "execute_result"
    }
   ],
   "source": [
    "s.lstrip()"
   ]
  },
  {
   "cell_type": "code",
   "execution_count": 130,
   "id": "264c5231",
   "metadata": {},
   "outputs": [],
   "source": [
    "s1 = \"   Nagesh\""
   ]
  },
  {
   "cell_type": "code",
   "execution_count": 131,
   "id": "25041af2",
   "metadata": {},
   "outputs": [
    {
     "data": {
      "text/plain": [
       "'Nagesh'"
      ]
     },
     "execution_count": 131,
     "metadata": {},
     "output_type": "execute_result"
    }
   ],
   "source": [
    "s1.lstrip()"
   ]
  },
  {
   "cell_type": "code",
   "execution_count": 132,
   "id": "af67697a",
   "metadata": {},
   "outputs": [
    {
     "data": {
      "text/plain": [
       "'Nagesh     '"
      ]
     },
     "execution_count": 132,
     "metadata": {},
     "output_type": "execute_result"
    }
   ],
   "source": [
    "s2 = \"    Nagesh     \"\n",
    "s2.lstrip()"
   ]
  },
  {
   "cell_type": "code",
   "execution_count": 133,
   "id": "10cb9ef1",
   "metadata": {},
   "outputs": [
    {
     "data": {
      "text/plain": [
       "'    Nagesh'"
      ]
     },
     "execution_count": 133,
     "metadata": {},
     "output_type": "execute_result"
    }
   ],
   "source": [
    "s2.rstrip()"
   ]
  },
  {
   "cell_type": "code",
   "execution_count": 134,
   "id": "ed2dca64",
   "metadata": {},
   "outputs": [
    {
     "data": {
      "text/plain": [
       "'Nagesh'"
      ]
     },
     "execution_count": 134,
     "metadata": {},
     "output_type": "execute_result"
    }
   ],
   "source": [
    "s2.strip()"
   ]
  },
  {
   "cell_type": "code",
   "execution_count": 135,
   "id": "ebe95484",
   "metadata": {},
   "outputs": [
    {
     "data": {
      "text/plain": [
       "'    NAGESH     '"
      ]
     },
     "execution_count": 135,
     "metadata": {},
     "output_type": "execute_result"
    }
   ],
   "source": [
    "s2.upper()"
   ]
  },
  {
   "cell_type": "code",
   "execution_count": 138,
   "id": "c1c17792",
   "metadata": {},
   "outputs": [
    {
     "data": {
      "text/plain": [
       "('NAGESH', 'nagesh')"
      ]
     },
     "execution_count": 138,
     "metadata": {},
     "output_type": "execute_result"
    }
   ],
   "source": [
    "x = s.upper()\n",
    "y = s.lower()\n",
    "x,y"
   ]
  },
  {
   "cell_type": "code",
   "execution_count": 139,
   "id": "62e7d761",
   "metadata": {},
   "outputs": [
    {
     "name": "stdout",
     "output_type": "stream",
     "text": [
      "NAGESH\n",
      "nagesh\n"
     ]
    }
   ],
   "source": [
    "print(x)\n",
    "print(y)"
   ]
  },
  {
   "cell_type": "code",
   "execution_count": null,
   "id": "928d8416",
   "metadata": {},
   "outputs": [],
   "source": []
  }
 ],
 "metadata": {
  "kernelspec": {
   "display_name": "Python 3 (ipykernel)",
   "language": "python",
   "name": "python3"
  },
  "language_info": {
   "codemirror_mode": {
    "name": "ipython",
    "version": 3
   },
   "file_extension": ".py",
   "mimetype": "text/x-python",
   "name": "python",
   "nbconvert_exporter": "python",
   "pygments_lexer": "ipython3",
   "version": "3.9.12"
  }
 },
 "nbformat": 4,
 "nbformat_minor": 5
}
